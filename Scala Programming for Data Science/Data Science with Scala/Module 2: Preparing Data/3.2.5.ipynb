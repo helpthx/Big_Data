{
 "cells": [
  {
   "cell_type": "markdown",
   "metadata": {},
   "source": [
    "<a href=\"https://cocl.us/Data_Science_with_Scalla_top\"><img src = \"https://s3-api.us-geo.objectstorage.softlayer.net/cf-courses-data/CognitiveClass/SC0103EN/adds/Data_Science_with_Scalla_notebook_top.png\" width = 750, align = \"center\"></a>\n",
    " <br/>\n",
    "<a><img src=\"https://ibm.box.com/shared/static/ugcqz6ohbvff804xp84y4kqnvvk3bq1g.png\" width=\"200\" align=\"center\"></a>\"\n",
    "\n",
    "# Module 2: Preparing Data \n",
    "\n",
    "## Identifying Outliers\n",
    "\n",
    "### Lesson Objectives\n",
    "\n",
    "After completing this lesson, you should be able to:\n",
    "\n",
    "- Compute the inverse of covariance matrix given of a dataset\n",
    "-\tCompute Mahalanobis Distance for all elements in a dataset\n",
    "-\tRemove outliers from a dataset\n",
    "\n",
    "\n",
    "## Mahalanobis Distance \n",
    "\n",
    "-\tMulti-dimensional generalization of measuring how many standard deviations a point is away from the mean\n",
    "-\tMeasured along each Principal Component axis \n",
    "-\tUnitless and scale-invariant \n",
    "-\tTakes into account the correlations of the dataset\n",
    "-\tUsed to detect outliers"
   ]
  },
  {
   "cell_type": "code",
   "execution_count": 1,
   "metadata": {
    "attributes": {
     "classes": [
      "scala"
     ],
     "id": ""
    }
   },
   "outputs": [
    {
     "data": {
      "text/plain": [
       "spark = org.apache.spark.sql.SparkSession@27c3e8bf\n"
      ]
     },
     "metadata": {},
     "output_type": "display_data",
     "source": "user"
    },
    {
     "data": {
      "text/plain": [
       "org.apache.spark.sql.SparkSession@27c3e8bf"
      ]
     },
     "execution_count": 1,
     "metadata": {},
     "output_type": "execute_result"
    }
   ],
   "source": [
    "import org.apache.spark.sql.SparkSession\n",
    "val spark = SparkSession.builder().getOrCreate()\n",
    "import spark.implicits._\n",
    "\n",
    "import org.apache.spark.sql.functions._\n",
    "import  org.apache.spark.mllib.linalg.{Vector, Vectors}\n",
    "import  org.apache.spark.ml.feature.StandardScaler\n",
    "import  org.apache.spark.ml.feature.VectorAssembler \n",
    "import org.apache.spark.mllib.util.MLUtils\n"
   ]
  },
  {
   "cell_type": "code",
   "execution_count": 2,
   "metadata": {
    "attributes": {
     "classes": [
      "scala"
     ],
     "id": ""
    }
   },
   "outputs": [
    {
     "data": {
      "text/plain": [
       "dfRandom = [id: bigint, uniform: double ... 2 more fields]\n",
       "assembler = vecAssembler_9ba67429882b\n",
       "dfVec = [id: bigint, uniform: double ... 3 more fields]\n"
      ]
     },
     "metadata": {},
     "output_type": "display_data",
     "source": "user"
    },
    {
     "data": {
      "text/plain": [
       "[id: bigint, uniform: double ... 3 more fields]"
      ]
     },
     "execution_count": 2,
     "metadata": {},
     "output_type": "execute_result"
    }
   ],
   "source": [
    "// Continuing from Previous Example \n",
    "\n",
    "val  dfRandom = spark.range(0, 10).select(\"id\").\n",
    " withColumn(\"uniform\", rand(10L)).\n",
    " withColumn(\"normal1\", randn(10L)).\n",
    " withColumn(\"normal2\", randn(11L))\n",
    "\n",
    "val  assembler = new VectorAssembler().\n",
    " setInputCols(Array(\"uniform\",\"normal1\",\"normal2\")).\n",
    " setOutputCol(\"features\")\n",
    "\n",
    "val dfVec = MLUtils.convertVectorColumnsFromML(assembler.transform(dfRandom))"
   ]
  },
  {
   "cell_type": "code",
   "execution_count": 3,
   "metadata": {
    "attributes": {
     "classes": [
      "scala"
     ],
     "id": ""
    }
   },
   "outputs": [
    {
     "name": "stdout",
     "output_type": "stream",
     "text": [
      "+---+--------------------+\n",
      "| id|            features|\n",
      "+---+--------------------+\n",
      "|  0|[0.41371264720975...|\n",
      "|  1|[0.73117192818966...|\n",
      "|  2|[0.19829196382083...|\n",
      "|  3|[0.12714181165849...|\n",
      "|  4|[0.76043181534066...|\n",
      "|  5|[0.12030715258495...|\n",
      "|  6|[0.12131363910425...|\n",
      "|  7|[0.44292918521277...|\n",
      "|  8|[0.88987842538862...|\n",
      "|  9|[0.03650707717266...|\n",
      "+---+--------------------+\n",
      "\n",
      "+---+--------------------+\n",
      "| id|            features|\n",
      "+---+--------------------+\n",
      "| 10|       [3.0,3.0,3.0]|\n",
      "|  9|[0.03650707717266...|\n",
      "|  8|[0.88987842538862...|\n",
      "|  7|[0.44292918521277...|\n",
      "|  6|[0.12131363910425...|\n",
      "+---+--------------------+\n",
      "only showing top 5 rows\n",
      "\n"
     ]
    },
    {
     "data": {
      "text/plain": [
       "dfOutlier = [id: bigint, features: vector]\n"
      ]
     },
     "metadata": {},
     "output_type": "display_data",
     "source": "user"
    },
    {
     "data": {
      "text/plain": [
       "warning: there was one deprecation warning; re-run with -deprecation for details\n"
      ]
     },
     "metadata": {},
     "output_type": "display_data",
     "source": "user"
    },
    {
     "data": {
      "text/plain": [
       "[id: bigint, features: vector]"
      ]
     },
     "execution_count": 3,
     "metadata": {},
     "output_type": "execute_result"
    }
   ],
   "source": [
    "// Continuing from the Previous Example\n",
    "dfVec.select(\"id\",\"features\").show()\n",
    "\n",
    "// An Example with Outliers \n",
    "val dfOutlier = dfVec.select(\"id\",\"features\").unionAll(spark.createDataFrame(Seq((10,Vectors.dense(3, 3, 3)))))\n",
    "dfOutlier.sort(dfOutlier(\"id\").desc).show(5)"
   ]
  },
  {
   "cell_type": "code",
   "execution_count": 4,
   "metadata": {
    "attributes": {
     "classes": [
      "scala"
     ],
     "id": ""
    }
   },
   "outputs": [
    {
     "name": "stdout",
     "output_type": "stream",
     "text": [
      "+---+--------------------+\n",
      "| id|          scaledFeat|\n",
      "+---+--------------------+\n",
      "| 10|[2.82164986866882...|\n",
      "|  9|[-0.6946827334846...|\n",
      "|  8|[0.31788506121507...|\n",
      "+---+--------------------+\n",
      "only showing top 3 rows\n",
      "\n"
     ]
    },
    {
     "data": {
      "text/plain": [
       "scaler = stdScal_cfcd508615c2\n",
       "scalerModel = stdScal_cfcd508615c2\n",
       "dfScaled = [id: bigint, scaledFeat: vector]\n"
      ]
     },
     "metadata": {},
     "output_type": "display_data",
     "source": "user"
    },
    {
     "data": {
      "text/plain": [
       "[id: bigint, scaledFeat: vector]"
      ]
     },
     "execution_count": 4,
     "metadata": {},
     "output_type": "execute_result"
    }
   ],
   "source": [
    "// An Example with Outliers \n",
    "\n",
    "val scaler = new StandardScaler().\n",
    " setInputCol(\"features\").setOutputCol(\"scaledFeat\").\n",
    " setWithStd(true).setWithMean(true)\n",
    "\n",
    "val scalerModel = scaler.fit(MLUtils.convertVectorColumnsToML(dfOutlier.select(\"id\",\"features\")))\n",
    "\n",
    "val dfScaled = scalerModel.transform(MLUtils.convertVectorColumnsToML(dfOutlier)).select(\"id\",\"scaledFeat\")\n",
    "dfScaled.sort(dfScaled(\"id\").desc).show(3)"
   ]
  },
  {
   "cell_type": "code",
   "execution_count": 5,
   "metadata": {
    "attributes": {
     "classes": [
      "scala"
     ],
     "id": ""
    }
   },
   "outputs": [
    {
     "data": {
      "text/plain": [
       "rddVec = MapPartitionsRDD[39] at map at <console>:44\n",
       "colCov = \n",
       "invColCovB = \n"
      ]
     },
     "metadata": {},
     "output_type": "display_data",
     "source": "user"
    },
    {
     "data": {
      "text/plain": [
       "1.0                 0.8103496428958891  0.7305190864811277\n",
       "0.8103496428958891  1.0                 0.718094148661543\n",
       "0.7305190864811277  0.718094148661543   1.0\n",
       "3.358697500406212    -1.9816807132192142  -1.0305593050850421\n",
       "-1.9816807132192142  3.2338825769455832   -0.8745765716449652\n",
       "-1.030559305085042   -0.8745765716449652  2.380871560770073\n"
      ]
     },
     "metadata": {},
     "output_type": "display_data",
     "source": "user"
    }
   ],
   "source": [
    "import  org.apache.spark.mllib.stat.Statistics\n",
    "\n",
    "import  breeze.linalg._\n",
    "\n",
    "val  rddVec = MLUtils.convertVectorColumnsFromML(dfScaled.select(\"scaledFeat\")).rdd.map(_(0).asInstanceOf[org.apache.spark.mllib.linalg.Vector])\n",
    "\n",
    "val  colCov = Statistics.corr(rddVec)\n",
    "val  invColCovB = inv(new DenseMatrix(3, 3, colCov.toArray))"
   ]
  },
  {
   "cell_type": "code",
   "execution_count": null,
   "metadata": {
    "attributes": {
     "classes": [
      "scala"
     ],
     "id": ""
    }
   },
   "outputs": [],
   "source": [
    "// Computing Mahalanobis Distance \n",
    "\n",
    "val mahalanobis = udf[Double, org.apache.spark.ml.linalg.Vector]{ v =>\n",
    " val k = v.toArray\n",
    " val vB = new DenseVector(k);\n",
    " vB.t * invColCovB * vB\n",
    "}\n",
    "\n",
    "val dfMahalanobis = dfScaled.withColumn(\"mahalanobis\", mahalanobis(dfScaled(\"scaledFeat\")))"
   ]
  },
  {
   "cell_type": "code",
   "execution_count": null,
   "metadata": {
    "attributes": {
     "classes": [
      "scala"
     ],
     "id": ""
    }
   },
   "outputs": [],
   "source": [
    "// Computing Mahalanobis Distance \n",
    "dfMahalanobis.show()"
   ]
  },
  {
   "cell_type": "code",
   "execution_count": null,
   "metadata": {
    "attributes": {
     "classes": [
      "scala"
     ],
     "id": ""
    }
   },
   "outputs": [],
   "source": [
    "// Removing Outliers \n",
    "\n",
    "dfMahalanobis.sort(dfMahalanobis(\"mahalanobis\").desc).show(2)\n",
    "\n",
    "val ids = dfMahalanobis.select(\"id\",\"mahalanobis\").sort(dfMahalanobis(\"mahalanobis\").desc).drop(\"mahalanobis\").collect() \n",
    "\n",
    "val idOutliers = ids.map(_(0).asInstanceOf[Long]).slice(0,2)"
   ]
  },
  {
   "cell_type": "markdown",
   "metadata": {},
   "source": [
    "## Removing Outliers"
   ]
  },
  {
   "cell_type": "code",
   "execution_count": null,
   "metadata": {
    "attributes": {
     "classes": [
      "scala"
     ],
     "id": ""
    }
   },
   "outputs": [],
   "source": [
    "dfOutlier.filter(\"id not in (10, 2)\").show()"
   ]
  },
  {
   "cell_type": "markdown",
   "metadata": {},
   "source": [
    "## Lesson Summary\n",
    "\n",
    "- Having completed this lesson, you should be able to:\n",
    "-\tCompute the inverse of covariance matrix given of a dataset \n",
    "-\tCompute Mahalanobis Distance for all elements in a dataset\n",
    "-\tRemove outliers from a dataset\n",
    "\n",
    "### About the Authors\n",
    "\n",
    "[Petro Verkhogliad](https://www.linkedin.com/in/vpetro) is Consulting Manager at Lightbend. He holds a Masters degree in Computer Science with specialization in Intelligent Systems. He is passionate about functional programming and applications of AI."
   ]
  }
 ],
 "metadata": {
  "kernelspec": {
   "display_name": "Apache Toree - Scala",
   "language": "scala",
   "name": "apache_toree_scala"
  },
  "language_info": {
   "codemirror_mode": "text/x-scala",
   "file_extension": ".scala",
   "mimetype": "text/x-scala",
   "name": "scala",
   "pygments_lexer": "scala",
   "version": "2.11.12"
  }
 },
 "nbformat": 4,
 "nbformat_minor": 4
}
