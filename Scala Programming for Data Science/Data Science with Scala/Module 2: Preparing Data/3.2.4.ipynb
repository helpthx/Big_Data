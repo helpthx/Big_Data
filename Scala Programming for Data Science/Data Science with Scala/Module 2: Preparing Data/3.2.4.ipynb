{
 "cells": [
  {
   "cell_type": "markdown",
   "metadata": {},
   "source": [
    "<a href=\"https://cocl.us/Data_Science_with_Scalla_top\"><img src = \"https://s3-api.us-geo.objectstorage.softlayer.net/cf-courses-data/CognitiveClass/SC0103EN/adds/Data_Science_with_Scalla_notebook_top.png\" width = 750, align = \"center\"></a>\n",
    " <br/>\n",
    "<a><img src=\"https://ibm.box.com/shared/static/ugcqz6ohbvff804xp84y4kqnvvk3bq1g.png\" width=\"200\" align=\"center\"></a>\"\n",
    "\n",
    "# Module 2: Preparing Data - Data Normalization\n",
    "\n",
    "## Data Normalization \n",
    "\n",
    "### Lesson Objectives\n",
    "\n",
    "-\tAfter completing this lesson, you should be able to: \n",
    "-\tNormalize a dataset to have unit p-norm\n",
    "-\tNormalize a dataset to have unit standard deviation and zero mean \n",
    "-\tNormalize a dataset to have given minimum and maximum values \n",
    "\n",
    "\n",
    "## Normalizer\n",
    "\n",
    "-\tA Transformer which transforms a dataset of Vector rows, normalizing each Vector to have unit norm\n",
    "-\tTakes a parameter P, which specifies the p-norm used for normalization (p=2 by default)\n",
    "- Standardize input data and improve the behavior of learning algorithms"
   ]
  },
  {
   "cell_type": "code",
   "execution_count": 1,
   "metadata": {
    "attributes": {
     "classes": [
      "scala"
     ],
     "id": ""
    }
   },
   "outputs": [
    {
     "data": {
      "text/plain": [
       "spark = org.apache.spark.sql.SparkSession@7f4ed4b5\n"
      ]
     },
     "metadata": {},
     "output_type": "display_data",
     "source": "user"
    },
    {
     "data": {
      "text/plain": [
       "org.apache.spark.sql.SparkSession@7f4ed4b5"
      ]
     },
     "execution_count": 1,
     "metadata": {},
     "output_type": "execute_result"
    }
   ],
   "source": [
    "import org.apache.spark.sql.SparkSession\n",
    "val spark = SparkSession.builder().getOrCreate()\n",
    "import spark.implicits._"
   ]
  },
  {
   "cell_type": "code",
   "execution_count": 2,
   "metadata": {
    "attributes": {
     "classes": [
      "scala"
     ],
     "id": ""
    }
   },
   "outputs": [
    {
     "name": "stdout",
     "output_type": "stream",
     "text": [
      "+---+--------------------+\n",
      "| id|            features|\n",
      "+---+--------------------+\n",
      "|  0|[0.41371264720975...|\n",
      "|  1|[0.73117192818966...|\n",
      "|  2|[0.19829196382083...|\n",
      "|  3|[0.12714181165849...|\n",
      "|  4|[0.76043181534066...|\n",
      "|  5|[0.12030715258495...|\n",
      "|  6|[0.12131363910425...|\n",
      "|  7|[0.44292918521277...|\n",
      "|  8|[0.88987842538862...|\n",
      "|  9|[0.03650707717266...|\n",
      "+---+--------------------+\n",
      "\n"
     ]
    },
    {
     "data": {
      "text/plain": [
       "dfRandom = [id: bigint, uniform: double ... 2 more fields]\n",
       "assembler = vecAssembler_40b355440395\n",
       "dfVec = [id: bigint, uniform: double ... 3 more fields]\n"
      ]
     },
     "metadata": {},
     "output_type": "display_data",
     "source": "user"
    },
    {
     "data": {
      "text/plain": [
       "[id: bigint, uniform: double ... 3 more fields]"
      ]
     },
     "execution_count": 2,
     "metadata": {},
     "output_type": "execute_result"
    }
   ],
   "source": [
    "// Continuing from Previous Example \n",
    "\n",
    "import  org.apache.spark.ml.feature.VectorAssembler\n",
    "\n",
    "import  org.apache.spark.sql.functions._\n",
    "\n",
    "val dfRandom = spark.range(0, 10).select(\"id\").\n",
    " withColumn(\"uniform\", rand(10L)).\n",
    " withColumn(\"normal1\", randn(10L)).\n",
    " withColumn(\"normal2\", randn(11L))\n",
    "\n",
    "val assembler = new  VectorAssembler().\n",
    " setInputCols(Array(\"uniform\",\"normal1\",\"normal2\")).\n",
    " setOutputCol(\"features\")\n",
    "\n",
    "val dfVec = assembler.transform(dfRandom)\n",
    "\n",
    "\n",
    "// Continuing from Previous Example \n",
    "\n",
    "dfVec.select(\"id\",\"features\").show()\n",
    " "
   ]
  },
  {
   "cell_type": "code",
   "execution_count": 3,
   "metadata": {
    "attributes": {
     "classes": [
      "scala"
     ],
     "id": ""
    }
   },
   "outputs": [
    {
     "name": "stdout",
     "output_type": "stream",
     "text": [
      "+---+--------------------+--------------------+\n",
      "| id|            features|          scaledFeat|\n",
      "+---+--------------------+--------------------+\n",
      "|  0|[0.41371264720975...|[0.32886636983701...|\n",
      "|  1|[0.73117192818966...|[0.27877135762286...|\n",
      "|  2|[0.19829196382083...|[0.20619308493718...|\n",
      "|  3|[0.12714181165849...|[0.06801701322638...|\n",
      "|  4|[0.76043181534066...|[0.54081735791552...|\n",
      "+---+--------------------+--------------------+\n",
      "only showing top 5 rows\n",
      "\n"
     ]
    },
    {
     "data": {
      "text/plain": [
       "scaler1 = normalizer_f3339d83bacc\n"
      ]
     },
     "metadata": {},
     "output_type": "display_data",
     "source": "user"
    },
    {
     "data": {
      "text/plain": [
       "normalizer_f3339d83bacc"
      ]
     },
     "execution_count": 3,
     "metadata": {},
     "output_type": "execute_result"
    }
   ],
   "source": [
    "\n",
    "// A Simple Normalizer \n",
    "\n",
    "import  org.apache.spark.ml.feature.Normalizer\n",
    "\n",
    "val scaler1 = new Normalizer().setInputCol(\"features\").setOutputCol(\"scaledFeat\").setP(1.0)\n",
    "scaler1.transform(dfVec.select(\"id\",\"features\")).show(5)"
   ]
  },
  {
   "cell_type": "markdown",
   "metadata": {},
   "source": [
    "## Standard Scaler\n",
    "\n",
    "-\tA Model which can be fit on a dataset to produce a `StandardScalerModel`\n",
    "-\tA Transformer which transforms a dataset of `Vector` rows, normalizing each feature to have unit standard deviation and/or zero mean\n",
    "- Takes two parameters:\n",
    "\t-\t`withStd`: scales the data to unit standard deviation (default: true)\n",
    "\t-\t`withMean`: centers the data with mean before scaling (default: false)\n",
    "-\tIt builds a dense output, sparse inputs will raise an exception\n",
    "-\tIf the standard deviation of a feature is zero, it returns 0.0 in the Vector for that feature"
   ]
  },
  {
   "cell_type": "code",
   "execution_count": 4,
   "metadata": {
    "attributes": {
     "classes": [
      "scala"
     ],
     "id": ""
    }
   },
   "outputs": [
    {
     "name": "stdout",
     "output_type": "stream",
     "text": [
      "+---+--------------------+--------------------+\n",
      "| id|            features|          scaledFeat|\n",
      "+---+--------------------+--------------------+\n",
      "|  0|[0.41371264720975...|[0.09436171519474...|\n",
      "|  1|[0.73117192818966...|[1.10830425730255...|\n",
      "|  2|[0.19829196382083...|[-0.5936767465057...|\n",
      "|  3|[0.12714181165849...|[-0.8209253118403...|\n",
      "|  4|[0.76043181534066...|[1.20175827215480...|\n",
      "+---+--------------------+--------------------+\n",
      "only showing top 5 rows\n",
      "\n"
     ]
    },
    {
     "data": {
      "text/plain": [
       "scaler2 = stdScal_79b0ba742bf5\n",
       "scaler2Model = stdScal_79b0ba742bf5\n"
      ]
     },
     "metadata": {},
     "output_type": "display_data",
     "source": "user"
    },
    {
     "data": {
      "text/plain": [
       "stdScal_79b0ba742bf5"
      ]
     },
     "execution_count": 4,
     "metadata": {},
     "output_type": "execute_result"
    }
   ],
   "source": [
    "// A Simple Standard Scaler \n",
    "\n",
    "import  org.apache.spark.ml.feature.StandardScaler\n",
    "\n",
    "val  scaler2 = new StandardScaler().\n",
    " setInputCol(\"features\"). setOutputCol(\"scaledFeat\").\n",
    " setWithStd(true). setWithMean(true)\n",
    "\n",
    "val  scaler2Model = scaler2.fit(dfVec.select(\"id\",\"features\"))\n",
    "scaler2Model.transform(dfVec.select(\"id\",\"features\")).show(5)"
   ]
  },
  {
   "cell_type": "markdown",
   "metadata": {},
   "source": [
    "## MinMax Scaler \n",
    "\n",
    "-\tA Model which can be fit on a dataset to produce a `MinMaxScalerModel`\n",
    "-\tA Transformer which transforms a dataset of `Vector` rows, rescaling each feature to a specific range (often `[0,1]`)\n",
    "-\tTakes two parameters: \n",
    "\t-\tmin: lower bound after transformation, shared by all features (default:0.0)\n",
    "\t-\tmax: upper bound after transformation, shared by all features (default: 1.0)\n",
    "-\tSince zero values are likely to be transformed to non-zero values, sparse inputs may result in dense outputs"
   ]
  },
  {
   "cell_type": "code",
   "execution_count": 5,
   "metadata": {
    "attributes": {
     "classes": [
      "scala"
     ],
     "id": ""
    }
   },
   "outputs": [
    {
     "name": "stdout",
     "output_type": "stream",
     "text": [
      "+---+--------------------+--------------------+\n",
      "| id|            features|          scaledFeat|\n",
      "+---+--------------------+--------------------+\n",
      "|  0|[0.41371264720975...|[-0.1159638278794...|\n",
      "|  1|[0.73117192818966...|[0.62804821715480...|\n",
      "|  2|[0.19829196382083...|[-0.6208335632866...|\n",
      "|  3|[0.12714181165849...|[-0.7875843038899...|\n",
      "|  4|[0.76043181534066...|[0.69662302274718...|\n",
      "+---+--------------------+--------------------+\n",
      "only showing top 5 rows\n",
      "\n"
     ]
    },
    {
     "data": {
      "text/plain": [
       "scaler3 = minMaxScal_957fa05e7f35\n",
       "scaler3Model = minMaxScal_957fa05e7f35\n"
      ]
     },
     "metadata": {},
     "output_type": "display_data",
     "source": "user"
    },
    {
     "data": {
      "text/plain": [
       "minMaxScal_957fa05e7f35"
      ]
     },
     "execution_count": 5,
     "metadata": {},
     "output_type": "execute_result"
    }
   ],
   "source": [
    "\n",
    "// A Simple MinMax Scaler \n",
    "import  org.apache.spark.ml.feature.MinMaxScaler \n",
    "\n",
    "val scaler3 = new MinMaxScaler().\n",
    " setInputCol(\"features\").setOutputCol(\"scaledFeat\").\n",
    " setMin(-1.0).setMax(1.0)\n",
    "\n",
    "val scaler3Model = scaler3.fit(dfVec.select(\"id\",\"features\"))\n",
    "scaler3Model.transform(dfVec.select(\"id\",\"features\")).show(5)"
   ]
  },
  {
   "cell_type": "markdown",
   "metadata": {},
   "source": [
    "## Lesson Summary \n",
    "\n",
    "-\tHaving completed this lesson, you should be able to: \n",
    "- Normalize a dataset to have unit p-norm\n",
    "-\tNormalize a dataset to have unit standard deviation and zero mean\n",
    "-\tNormalize a dataset to have given minimum and maximum values\n",
    "\n",
    "### About the Authors\n",
    "\n",
    "[Petro Verkhogliad](https://www.linkedin.com/in/vpetro) is Consulting Manager at Lightbend. He holds a Masters degree in Computer Science with specialization in Intelligent Systems. He is passionate about functional programming and applications of AI."
   ]
  }
 ],
 "metadata": {
  "kernelspec": {
   "display_name": "Apache Toree - Scala",
   "language": "scala",
   "name": "apache_toree_scala"
  },
  "language_info": {
   "codemirror_mode": "text/x-scala",
   "file_extension": ".scala",
   "mimetype": "text/x-scala",
   "name": "scala",
   "pygments_lexer": "scala",
   "version": "2.11.12"
  }
 },
 "nbformat": 4,
 "nbformat_minor": 4
}
